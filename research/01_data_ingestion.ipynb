{
 "cells": [
  {
   "cell_type": "code",
   "execution_count": null,
   "id": "26e9f24e",
   "metadata": {},
   "outputs": [],
   "source": [
    "import os\n"
   ]
  },
  {
   "cell_type": "code",
   "execution_count": null,
   "id": "1fe5aa7f",
   "metadata": {},
   "outputs": [
    {
     "data": {
      "text/plain": [
       "'/Users/tumelo/Desktop/ML Projects/youtube/dswithbappy/mlops_dl_cv_chest_ct/research'"
      ]
     },
     "execution_count": 2,
     "metadata": {},
     "output_type": "execute_result"
    }
   ],
   "source": [
    "%pwd\n"
   ]
  },
  {
   "cell_type": "code",
   "execution_count": null,
   "id": "80a7ff1d",
   "metadata": {},
   "outputs": [],
   "source": [
    "os.chdir(\"../\")\n"
   ]
  },
  {
   "cell_type": "code",
   "execution_count": null,
   "id": "517ad5c0",
   "metadata": {},
   "outputs": [
    {
     "data": {
      "text/plain": [
       "'/Users/tumelo/Desktop/ML Projects/youtube/dswithbappy/mlops_dl_cv_chest_ct'"
      ]
     },
     "execution_count": 4,
     "metadata": {},
     "output_type": "execute_result"
    }
   ],
   "source": [
    "%pwd\n"
   ]
  },
  {
   "cell_type": "markdown",
   "id": "9ab82bbc",
   "metadata": {},
   "source": [
    "## Entity\n"
   ]
  },
  {
   "cell_type": "code",
   "execution_count": null,
   "id": "bb77ac3c",
   "metadata": {},
   "outputs": [],
   "source": [
    "from dataclasses import dataclass\n",
    "from pathlib import Path\n"
   ]
  },
  {
   "cell_type": "code",
   "execution_count": null,
   "id": "eb2bafc2",
   "metadata": {},
   "outputs": [],
   "source": [
    "@dataclass(frozen=True)\n",
    "class DataIngestionConfig:\n",
    "    root_dir: Path\n",
    "    source_URL: str\n",
    "    local_data_file: Path\n",
    "    unzip_dir: Path\n"
   ]
  },
  {
   "cell_type": "markdown",
   "id": "8a071475",
   "metadata": {},
   "source": [
    "## Configuration\n"
   ]
  },
  {
   "cell_type": "code",
   "execution_count": null,
   "id": "1977e0c9",
   "metadata": {},
   "outputs": [],
   "source": [
    "from cnnClassifier.constants import *\n",
    "from cnnClassifier.utils.common import read_yaml, create_directories\n"
   ]
  },
  {
   "cell_type": "code",
   "execution_count": null,
   "id": "350ca8a7",
   "metadata": {},
   "outputs": [],
   "source": [
    "class ConfigurationManager:\n",
    "    def __init__(\n",
    "        self, config_filepath=CONFIG_FILE_PATH, params_filepath=PARAMS_FILE_PATH\n",
    "    ):\n",
    "        self.config = read_yaml(config_filepath)\n",
    "        self.params = read_yaml(params_filepath)\n",
    "\n",
    "        create_directories([self.config.artifacts_root])\n",
    "\n",
    "    def get_data_ingestion_config(self) -> DataIngestionConfig:\n",
    "        config = self.config.data_ingestion\n",
    "\n",
    "        create_directories([config.root_dir])\n",
    "\n",
    "        data_ingestion_config = DataIngestionConfig(\n",
    "            root_dir=config.root_dir,\n",
    "            source_URL=config.source_URL,\n",
    "            local_data_file=config.local_data_file,\n",
    "            unzip_dir=config.unzip_dir,\n",
    "        )\n",
    "\n",
    "        return data_ingestion_config\n"
   ]
  },
  {
   "cell_type": "markdown",
   "id": "6662312d",
   "metadata": {},
   "source": [
    "## Component\n"
   ]
  },
  {
   "cell_type": "code",
   "execution_count": null,
   "id": "e8e586a9",
   "metadata": {},
   "outputs": [],
   "source": [
    "import os\n",
    "import zipfile\n",
    "import gdown\n",
    "\n",
    "from cnnClassifier.utils.common import get_size\n",
    "\n",
    "from cnnClassifier.logger import LoggerManager\n"
   ]
  },
  {
   "cell_type": "code",
   "execution_count": null,
   "id": "acd4228e",
   "metadata": {},
   "outputs": [],
   "source": [
    "class DataIngestion:\n",
    "    def __init__(self, config: DataIngestionConfig):\n",
    "        self.logger = LoggerManager(self.__class__.__name__).get_logger()\n",
    "        self.config = config\n",
    "\n",
    "    def download_file(self) -> str:\n",
    "        \"\"\"\n",
    "        Fetch the data from the url\n",
    "        \"\"\"\n",
    "\n",
    "        try:\n",
    "            dataset_url = self.config.source_URL\n",
    "            zip_download_dir = self.config.local_data_file\n",
    "            os.makedirs(self.config.root_dir, exist_ok=True)\n",
    "            self.logger.info(\n",
    "                f\"Downloading data from {dataset_url} into filw {zip_download_dir}\"\n",
    "            )\n",
    "\n",
    "            file_id = dataset_url.split(\"/\")[-2]\n",
    "            prefix = \"https://drive.google.com/uc?/export=download&id=\"\n",
    "            gdown.download(prefix + file_id, zip_download_dir)\n",
    "            self.logger.info(\n",
    "                f\"Downloaded data from {dataset_url} into filw {zip_download_dir}\"\n",
    "            )\n",
    "\n",
    "        except Exception as e:\n",
    "            raise e\n",
    "\n",
    "    def extract_zip_file(self):\n",
    "        \"\"\"\n",
    "        zip_file_path: str\n",
    "        Extracts the zip file into the data directory\n",
    "        Function returns None\n",
    "        \"\"\"\n",
    "\n",
    "        unzip_path = self.config.unzip_dir\n",
    "        os.makedirs(unzip_path, exist_ok=True)\n",
    "        with zipfile.ZipFile(self.config.local_data_file, \"r\") as zip_ref:\n",
    "            zip_ref.extractall(unzip_path)\n"
   ]
  },
  {
   "cell_type": "markdown",
   "id": "9e51293c",
   "metadata": {},
   "source": [
    "## Pipeline\n"
   ]
  },
  {
   "cell_type": "code",
   "execution_count": null,
   "id": "d5317a4c",
   "metadata": {},
   "outputs": [
    {
     "name": "stderr",
     "output_type": "stream",
     "text": [
      "[2025-06-30 00:35:04] utils/common - read_yaml:33 - INFO - yaml file: config/config.yaml loaded successfully\n",
      "[2025-06-30 00:35:04] utils/common - read_yaml:33 - INFO - yaml file: params.yaml loaded successfully\n",
      "[2025-06-30 00:35:04] utils/common - create_directories:53 - INFO - created directory at: artifacts\n",
      "[2025-06-30 00:35:04] utils/common - create_directories:53 - INFO - created directory at: artifacts/data_ingestion\n",
      "[2025-06-30 00:35:04] DataIngestion - download_file:15 - INFO - Downloading data from https://drive.google.com/file/d/1ziMc35v-b1mAjuvNH4ZBCz5gNmztp76l/view?usp=share_link into filw artifacts/data_ingestion/data.zip\n",
      "Downloading...\n",
      "From (original): https://drive.google.com/uc?/export=download&id=1ziMc35v-b1mAjuvNH4ZBCz5gNmztp76l\n",
      "From (redirected): https://drive.google.com/uc?%2Fexport=download&id=1ziMc35v-b1mAjuvNH4ZBCz5gNmztp76l&confirm=t&uuid=45abbd0a-ddef-4296-8467-8f44981ad933\n",
      "To: /Users/tumelo/Desktop/ML Projects/youtube/dswithbappy/mlops_dl_cv_chest_ct/artifacts/data_ingestion/data.zip\n",
      "100%|██████████| 49.0M/49.0M [00:07<00:00, 6.62MB/s]\n",
      "[2025-06-30 00:35:15] DataIngestion - download_file:22 - INFO - Downloaded data from https://drive.google.com/file/d/1ziMc35v-b1mAjuvNH4ZBCz5gNmztp76l/view?usp=share_link into filw artifacts/data_ingestion/data.zip\n"
     ]
    }
   ],
   "source": [
    "try:\n",
    "    config = ConfigurationManager()\n",
    "    data_ingestion_config = config.get_data_ingestion_config()\n",
    "\n",
    "    data_ingestion = DataIngestion(config=data_ingestion_config)\n",
    "    data_ingestion.download_file()\n",
    "    data_ingestion.extract_zip_file()\n",
    "except Exception as e:\n",
    "    raise e\n"
   ]
  },
  {
   "cell_type": "code",
   "execution_count": null,
   "id": "a4bcfde3",
   "metadata": {},
   "outputs": [],
   "source": []
  }
 ],
 "metadata": {
  "kernelspec": {
   "display_name": "Py-DLChest",
   "language": "python",
   "name": "python3"
  },
  "language_info": {
   "codemirror_mode": {
    "name": "ipython",
    "version": 3
   },
   "file_extension": ".py",
   "mimetype": "text/x-python",
   "name": "python",
   "nbconvert_exporter": "python",
   "pygments_lexer": "ipython3",
   "version": "3.9.23"
  }
 },
 "nbformat": 4,
 "nbformat_minor": 5
}
